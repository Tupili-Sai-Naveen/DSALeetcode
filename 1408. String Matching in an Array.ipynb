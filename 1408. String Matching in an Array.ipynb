{
 "cells": [
  {
   "cell_type": "raw",
   "id": "21ab45c9-6c75-4fef-9e35-0e4fe0fd950e",
   "metadata": {},
   "source": [
    "1408. String Matching in an Array"
   ]
  },
  {
   "cell_type": "markdown",
   "id": "22225de7-6c50-46d9-bb6e-166580ea25e9",
   "metadata": {},
   "source": [
    "Given an array of string words, return all strings in words that is a substring of another word. You can return the answer in any order.\n",
    "\n",
    "A substring is a contiguous sequence of characters within a string\n",
    "\n",
    " "
   ]
  },
  {
   "cell_type": "markdown",
   "id": "e162013c-a579-4620-810e-45a9dced1d76",
   "metadata": {},
   "source": [
    "Example 1:\n",
    "\n",
    "Input: words = [\"mass\",\"as\",\"hero\",\"superhero\"]\n",
    "Output: [\"as\",\"hero\"]\n",
    "Explanation: \"as\" is substring of \"mass\" and \"hero\" is substring of \"superhero\".\n",
    "[\"hero\",\"as\"] is also a valid answer."
   ]
  },
  {
   "cell_type": "markdown",
   "id": "d4d5248d-e974-4317-b079-d87ff124dd95",
   "metadata": {},
   "source": [
    "Example 2:\n",
    "\n",
    "Input: words = [\"leetcode\",\"et\",\"code\"]\n",
    "Output: [\"et\",\"code\"]\n",
    "Explanation: \"et\", \"code\" are substring of \"leetcode\"."
   ]
  },
  {
   "cell_type": "markdown",
   "id": "139de016-783a-440d-bdab-560c548c1854",
   "metadata": {},
   "source": [
    "Example 3:\n",
    "\n",
    "Input: words = [\"blue\",\"green\",\"bu\"]\n",
    "Output: []\n",
    "Explanation: No string of words is substring of another string."
   ]
  },
  {
   "cell_type": "code",
   "execution_count": null,
   "id": "dbf4f6f4-0d76-4c0c-8fd9-de98fa618838",
   "metadata": {},
   "outputs": [],
   "source": [
    "class Solution:\n",
    "    def stringMatching(self, words: List[str]) -> List[str]:\n",
    "        a=[]\n",
    "        l=len(words)\n",
    "        for i in range(l):\n",
    "            for j in range(l):\n",
    "                if i!=j and words[i] in words[j]:\n",
    "                    a.append(words[i])\n",
    "                    break\n",
    "        return a "
   ]
  }
 ],
 "metadata": {
  "kernelspec": {
   "display_name": "Python 3 (ipykernel)",
   "language": "python",
   "name": "python3"
  },
  "language_info": {
   "codemirror_mode": {
    "name": "ipython",
    "version": 3
   },
   "file_extension": ".py",
   "mimetype": "text/x-python",
   "name": "python",
   "nbconvert_exporter": "python",
   "pygments_lexer": "ipython3",
   "version": "3.13.1"
  }
 },
 "nbformat": 4,
 "nbformat_minor": 5
}
