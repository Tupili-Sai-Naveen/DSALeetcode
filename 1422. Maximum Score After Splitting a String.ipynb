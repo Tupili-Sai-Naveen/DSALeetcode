{
 "cells": [
  {
   "cell_type": "markdown",
   "id": "4b54fb73-dec9-4fe9-ab2b-806a275a3b98",
   "metadata": {},
   "source": [
    "Q)Given a string s of zeros and ones, return the maximum score after splitting the string into two non-empty substrings (i.e. left substring and right substring).\n",
    "\n",
    "The score after splitting a string is the number of zeros in the left substring plus the number of ones in the right substring."
   ]
  },
  {
   "cell_type": "markdown",
   "id": "5348fc4c-9774-4538-a123-2d1b658fcebd",
   "metadata": {},
   "source": [
    "Example 1:\n",
    "\n",
    "Input: s = \"011101\"\n",
    "Output: 5 \n",
    "Explanation: \n",
    "All possible ways of splitting s into two non-empty substrings are:\n",
    "left = \"0\" and right = \"11101\", score = 1 + 4 = 5 \n",
    "left = \"01\" and right = \"1101\", score = 1 + 3 = 4 \n",
    "left = \"011\" and right = \"101\", score = 1 + 2 = 3 \n",
    "left = \"0111\" and right = \"01\", score = 1 + 1 = 2 \n",
    "left = \"01110\" and right = \"1\", score = 2 + 1 = 3"
   ]
  },
  {
   "cell_type": "code",
   "execution_count": null,
   "id": "6d8fcc3f-4bbc-46db-bc04-c288e2180d48",
   "metadata": {},
   "outputs": [],
   "source": [
    "#include <iostream>\n",
    "using namespace std;\n",
    "\n",
    "int main() \n",
    "{\n",
    "   string s;\n",
    "   cin>>s;\n",
    "   int z=0,o=0;\n",
    "        if(s[0]=='0')\n",
    "        {\n",
    "            z=1;\n",
    "        }\n",
    "        for(int i=1;i<s.size();i++)\n",
    "        {\n",
    "            if(s[i]=='1')\n",
    "            {\n",
    "                o++;\n",
    "            }\n",
    "        }\n",
    "        int m=z+o;\n",
    "        for(int i=1;i<s.size()-1;i++)\n",
    "        {\n",
    "            if(s[i]=='1')\n",
    "            {\n",
    "                o--;\n",
    "            }\n",
    "            else\n",
    "            {\n",
    "                z++;\n",
    "            }\n",
    "            if(o+z>m)\n",
    "            {\n",
    "                m=o+z;\n",
    "            }\n",
    "        }\n",
    "        cout<<m;\n",
    "}"
   ]
  }
 ],
 "metadata": {
  "kernelspec": {
   "display_name": "Python 3 (ipykernel)",
   "language": "python",
   "name": "python3"
  },
  "language_info": {
   "codemirror_mode": {
    "name": "ipython",
    "version": 3
   },
   "file_extension": ".py",
   "mimetype": "text/x-python",
   "name": "python",
   "nbconvert_exporter": "python",
   "pygments_lexer": "ipython3",
   "version": "3.13.1"
  }
 },
 "nbformat": 4,
 "nbformat_minor": 5
}
