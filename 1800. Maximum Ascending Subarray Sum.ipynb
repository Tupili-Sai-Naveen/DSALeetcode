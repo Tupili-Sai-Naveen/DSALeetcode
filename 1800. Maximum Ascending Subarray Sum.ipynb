{
 "cells": [
  {
   "cell_type": "markdown",
   "id": "6d76a249-cd75-4fce-8965-793b405d9cab",
   "metadata": {},
   "source": [
    "1800. Maximum Ascending Subarray Sum"
   ]
  },
  {
   "cell_type": "markdown",
   "id": "b3bcb153-b503-4c83-ab62-fb25cf52a3e0",
   "metadata": {},
   "source": [
    "Given an array of positive integers nums, return the maximum possible sum of an ascending subarray in nums.\n",
    "\n",
    "A subarray is defined as a contiguous sequence of numbers in an array.\n",
    "\n",
    "A subarray [numsl, numsl+1, ..., numsr-1, numsr] is ascending if for all i where l <= i < r, numsi  < numsi+1. Note that a subarray of size 1 is ascending."
   ]
  },
  {
   "cell_type": "code",
   "execution_count": null,
   "id": "96ed3b39-76a3-43d2-8b7c-e87721967097",
   "metadata": {},
   "outputs": [],
   "source": [
    "class Solution:\n",
    "    def maxAscendingSum(self, nums: List[int]) -> int:\n",
    "        ans=0\n",
    "        i=0\n",
    "        l=len(nums)\n",
    "        while(i<l):\n",
    "            s=nums[i]\n",
    "            i+=1\n",
    "            while(i<l and nums[i-1]<nums[i]):\n",
    "                s+=nums[i]\n",
    "                i+=1\n",
    "            if s>ans:\n",
    "                ans=s\n",
    "        return ans"
   ]
  }
 ],
 "metadata": {
  "kernelspec": {
   "display_name": "Python 3 (ipykernel)",
   "language": "python",
   "name": "python3"
  },
  "language_info": {
   "codemirror_mode": {
    "name": "ipython",
    "version": 3
   },
   "file_extension": ".py",
   "mimetype": "text/x-python",
   "name": "python",
   "nbconvert_exporter": "python",
   "pygments_lexer": "ipython3",
   "version": "3.13.1"
  }
 },
 "nbformat": 4,
 "nbformat_minor": 5
}
