{
 "cells": [
  {
   "cell_type": "markdown",
   "id": "1ad94182-3822-46b6-a13c-420dc98b2d91",
   "metadata": {},
   "source": [
    "2161. Partition Array According to Given Pivot\n"
   ]
  },
  {
   "cell_type": "markdown",
   "id": "14188a7a-0750-44f5-b6dc-dd1d35fbae1b",
   "metadata": {},
   "source": [
    "You are given a 0-indexed integer array nums and an integer pivot. Rearrange nums such that the following conditions are satisfied:\n",
    "\n",
    "Every element less than pivot appears before every element greater than pivot.\n",
    "Every element equal to pivot appears in between the elements less than and greater than pivot.\n",
    "The relative order of the elements less than pivot and the elements greater than pivot is maintained.\n",
    "More formally, consider every pi, pj where pi is the new position of the ith element and pj is the new position of the jth element. If i < j and both elements are smaller (or larger) than pivot, then pi < pj.\n",
    "Return nums after the rearrangement."
   ]
  },
  {
   "cell_type": "raw",
   "id": "84f36649-7b75-4d5e-b47a-c999f04c9d69",
   "metadata": {},
   "source": [
    "class Solution:\n",
    "    def pivotArray(self, nums: List[int], pivot: int) -> List[int]:\n",
    "        q=[]\n",
    "        w=[]\n",
    "        e=[]\n",
    "        for i in nums:\n",
    "            if i<pivot:\n",
    "                q.append(i)\n",
    "            elif i>pivot:\n",
    "                w.append(i)\n",
    "            else:\n",
    "                e.append(i)\n",
    "        for i in e:\n",
    "            q.append(i)\n",
    "        for i in w:\n",
    "            q.append(i)\n",
    "        return q"
   ]
  },
  {
   "cell_type": "code",
   "execution_count": null,
   "id": "cd24c5a3-f3ca-44f6-b708-715ca74517b9",
   "metadata": {},
   "outputs": [],
   "source": []
  }
 ],
 "metadata": {
  "kernelspec": {
   "display_name": "Python 3 (ipykernel)",
   "language": "python",
   "name": "python3"
  },
  "language_info": {
   "codemirror_mode": {
    "name": "ipython",
    "version": 3
   },
   "file_extension": ".py",
   "mimetype": "text/x-python",
   "name": "python",
   "nbconvert_exporter": "python",
   "pygments_lexer": "ipython3",
   "version": "3.13.1"
  }
 },
 "nbformat": 4,
 "nbformat_minor": 5
}
