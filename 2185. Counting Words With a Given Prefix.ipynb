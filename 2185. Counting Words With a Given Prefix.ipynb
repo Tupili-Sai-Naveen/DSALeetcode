{
 "cells": [
  {
   "cell_type": "markdown",
   "id": "80027422-b3b7-43b5-b310-eba710ee430a",
   "metadata": {},
   "source": [
    "2185. Counting Words With a Given Prefix"
   ]
  },
  {
   "cell_type": "markdown",
   "id": "23be4045-c480-497a-b44d-dce192bac9bc",
   "metadata": {},
   "source": [
    "You are given an array of strings words and a string pref.\n",
    "\n",
    "Return the number of strings in words that contain pref as a prefix.\n",
    "\n",
    "A prefix of a string s is any leading contiguous substring of s."
   ]
  },
  {
   "cell_type": "markdown",
   "id": "7845dae8-48aa-4769-8565-d48a891215ef",
   "metadata": {},
   "source": [
    "Input: words = [\"pay\",\"attention\",\"practice\",\"attend\"], pref = \"at\"\n",
    "Output: 2\n",
    "Explanation: The 2 strings that contain \"at\" as a prefix are: \"attention\" and \"attend\"."
   ]
  },
  {
   "cell_type": "markdown",
   "id": "de14d788-bfe3-4650-9068-344f8689a171",
   "metadata": {},
   "source": [
    "Example 2:\n",
    "\n",
    "Input: words = [\"leetcode\",\"win\",\"loops\",\"success\"], pref = \"code\"\n",
    "Output: 0\n",
    "Explanation: There are no strings that contain \"code\" as a prefix.\n",
    " "
   ]
  },
  {
   "cell_type": "markdown",
   "id": "b92bf0a1-262b-4773-82fd-ace9cec8b635",
   "metadata": {},
   "source": [
    "code:\n"
   ]
  },
  {
   "cell_type": "code",
   "execution_count": null,
   "id": "a7f048cf-0f79-498b-ae6a-2bbddbc85b8d",
   "metadata": {},
   "outputs": [],
   "source": [
    "class Solution:\n",
    "    def prefixCount(self, words: List[str], pref: str) -> int:\n",
    "        a=0\n",
    "        l=len(pref)\n",
    "        for i in words:\n",
    "            if i[:l]==pref:\n",
    "                a+=1\n",
    "        return a"
   ]
  }
 ],
 "metadata": {
  "kernelspec": {
   "display_name": "Python 3 (ipykernel)",
   "language": "python",
   "name": "python3"
  },
  "language_info": {
   "codemirror_mode": {
    "name": "ipython",
    "version": 3
   },
   "file_extension": ".py",
   "mimetype": "text/x-python",
   "name": "python",
   "nbconvert_exporter": "python",
   "pygments_lexer": "ipython3",
   "version": "3.13.1"
  }
 },
 "nbformat": 4,
 "nbformat_minor": 5
}
