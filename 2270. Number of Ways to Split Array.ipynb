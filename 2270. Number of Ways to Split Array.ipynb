{
 "cells": [
  {
   "cell_type": "markdown",
   "id": "cfd50189-5b95-41ee-bc5f-4613625f326d",
   "metadata": {},
   "source": [
    "2270. Number of Ways to Split Array"
   ]
  },
  {
   "cell_type": "markdown",
   "id": "0aeac342-57a9-4f3e-a7d0-b055e0786951",
   "metadata": {},
   "source": [
    "You are given a 0-indexed integer array nums of length n.\n",
    "\n",
    "nums contains a valid split at index i if the following are true:\n",
    "\n",
    "The sum of the first i + 1 elements is greater than or equal to the sum of the last n - i - 1 elements.\n",
    "There is at least one element to the right of i. That is, 0 <= i < n - 1.\n",
    "Return the number of valid splits in nums."
   ]
  },
  {
   "cell_type": "markdown",
   "id": "abfb656f-c27b-486f-b1f6-c91f9d6eb551",
   "metadata": {},
   "source": [
    "Example 1:\n",
    "\n",
    "Input: nums = [10,4,-8,7]\n",
    "Output: 2\n",
    "Explanation: \n",
    "There are three ways of splitting nums into two non-empty parts:\n",
    "- Split nums at index 0. Then, the first part is [10], and its sum is 10. The second part is [4,-8,7], and its sum is 3. Since 10 >= 3, i = 0 is a valid split.\n",
    "- Split nums at index 1. Then, the first part is [10,4], and its sum is 14. The second part is [-8,7], and its sum is -1. Since 14 >= -1, i = 1 is a valid split.\n",
    "- Split nums at index 2. Then, the first part is [10,4,-8], and its sum is 6. The second part is [7], and its sum is 7. Since 6 < 7, i = 2 is not a valid split.\n",
    "Thus, the number of valid splits in nums is 2."
   ]
  },
  {
   "cell_type": "markdown",
   "id": "e42ba7aa-f668-49fe-acb1-660064d6efe4",
   "metadata": {},
   "source": [
    "Example 2:\n",
    "\n",
    "Input: nums = [2,3,1,0]\n",
    "Output: 2\n",
    "Explanation: \n",
    "There are two valid splits in nums:\n",
    "- Split nums at index 1. Then, the first part is [2,3], and its sum is 5. The second part is [1,0], and its sum is 1. Since 5 >= 1, i = 1 is a valid split. \n",
    "- Split nums at index 2. Then, the first part is [2,3,1], and its sum is 6. The second part is [0], and its sum is 0. Since 6 >= 0, i = 2 is a valid split."
   ]
  },
  {
   "cell_type": "markdown",
   "id": "646a5bd9-b29c-4013-ab35-4f151dd28142",
   "metadata": {},
   "source": [
    " Code:"
   ]
  },
  {
   "cell_type": "code",
   "execution_count": null,
   "id": "56264e13-bee7-45ac-b47d-e741ce875e8a",
   "metadata": {},
   "outputs": [],
   "source": [
    "class Solution {\n",
    "class Solution {\n",
    "public:\n",
    "    int waysToSplitArray(vector<int>& nums) {\n",
    "        int le=nums.size();\n",
    "      long long  int ans=0,l=0,r=0;\n",
    "        for(int i=0;i<le;i++)\n",
    "        {\n",
    "            r+=nums[i];\n",
    "        }\n",
    "        for(int i=0;i<le-1;i++)\n",
    "        {\n",
    "            l+=nums[i];\n",
    "            r-=nums[i];\n",
    "            if(l>=r)\n",
    "            {\n",
    "                ans++;\n",
    "            }\n",
    "        }\n",
    "        return ans;\n",
    "    }\n",
    "};"
   ]
  },
  {
   "cell_type": "code",
   "execution_count": null,
   "id": "7e1669dc-ed8a-47bc-b281-375977a5ff44",
   "metadata": {},
   "outputs": [],
   "source": []
  }
 ],
 "metadata": {
  "kernelspec": {
   "display_name": "Python 3 (ipykernel)",
   "language": "python",
   "name": "python3"
  },
  "language_info": {
   "codemirror_mode": {
    "name": "ipython",
    "version": 3
   },
   "file_extension": ".py",
   "mimetype": "text/x-python",
   "name": "python",
   "nbconvert_exporter": "python",
   "pygments_lexer": "ipython3",
   "version": "3.13.1"
  }
 },
 "nbformat": 4,
 "nbformat_minor": 5
}
