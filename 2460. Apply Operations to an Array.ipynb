{
 "cells": [
  {
   "cell_type": "markdown",
   "id": "b900b833-99a0-424c-8238-10cb3c911b0c",
   "metadata": {},
   "source": [
    "2460. Apply Operations to an Array\n"
   ]
  },
  {
   "cell_type": "markdown",
   "id": "ee65e5f5-179a-4c06-b54c-d5c3e2fbe296",
   "metadata": {},
   "source": [
    "You are given a 0-indexed array nums of size n consisting of non-negative integers.\n",
    "\n",
    "You need to apply n - 1 operations to this array where, in the ith operation (0-indexed), you will apply the following on the ith element of nums:\n",
    "\n",
    "If nums[i] == nums[i + 1], then multiply nums[i] by 2 and set nums[i + 1] to 0. Otherwise, you skip this operation.\n",
    "After performing all the operations, shift all the 0's to the end of the array.\n",
    "\n",
    "For example, the array [1,0,2,0,0,1] after shifting all its 0's to the end, is [1,2,1,0,0,0].\n",
    "Return the resulting array.\n",
    "\n",
    "Note that the operations are applied sequentially, not all at once."
   ]
  },
  {
   "cell_type": "code",
   "execution_count": null,
   "id": "653fd6c6-f1f7-49b3-a72f-bea81af6b6af",
   "metadata": {},
   "outputs": [],
   "source": [
    "class Solution:\n",
    "    def applyOperations(self, nums: List[int]) -> List[int]:\n",
    "        for i in range(len(nums)-1):\n",
    "            if nums[i]==nums[i+1]:\n",
    "                nums[i]=nums[i]*2\n",
    "                nums[i+1]=0\n",
    "        z=0;p=0\n",
    "        for i in range(len(nums)):\n",
    "            if nums[i]==0:\n",
    "                z+=1\n",
    "            else:\n",
    "                nums[p]=nums[i]\n",
    "                p+=1\n",
    "        for i in range(p,len(nums)):\n",
    "            nums[i]=0\n",
    "        return nums"
   ]
  }
 ],
 "metadata": {
  "kernelspec": {
   "display_name": "Python 3 (ipykernel)",
   "language": "python",
   "name": "python3"
  },
  "language_info": {
   "codemirror_mode": {
    "name": "ipython",
    "version": 3
   },
   "file_extension": ".py",
   "mimetype": "text/x-python",
   "name": "python",
   "nbconvert_exporter": "python",
   "pygments_lexer": "ipython3",
   "version": "3.13.1"
  }
 },
 "nbformat": 4,
 "nbformat_minor": 5
}
