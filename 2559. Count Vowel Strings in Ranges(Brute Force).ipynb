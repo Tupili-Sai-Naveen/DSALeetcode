{
 "cells": [
  {
   "cell_type": "markdown",
   "id": "5a7fd383-c242-479c-af3b-55dcfb7e6d1f",
   "metadata": {},
   "source": [
    "2559. Count Vowel Strings in Ranges"
   ]
  },
  {
   "cell_type": "markdown",
   "id": "aaaea213-192e-4c7e-8daf-279606d1e526",
   "metadata": {},
   "source": [
    "You are given a 0-indexed array of strings words and a 2D array of integers queries.\n",
    "\n",
    "Each query queries[i] = [li, ri] asks us to find the number of strings present in the range li to ri (both inclusive) of words that start and end with a vowel.\n",
    "\n",
    "Return an array ans of size queries.length, where ans[i] is the answer to the ith query.\n",
    "\n",
    "Note that the vowel letters are 'a', 'e', 'i', 'o', and 'u'.\n",
    "\n",
    " "
   ]
  },
  {
   "cell_type": "markdown",
   "id": "e43bc472-436d-44af-921e-a334d0790b8b",
   "metadata": {},
   "source": [
    "Example 1:\n",
    "\n",
    "Input: words = [\"aba\",\"bcb\",\"ece\",\"aa\",\"e\"], queries = [[0,2],[1,4],[1,1]]\n",
    "Output: [2,3,0]\n",
    "Explanation: The strings starting and ending with a vowel are \"aba\", \"ece\", \"aa\" and \"e\".\n",
    "The answer to the query [0,2] is 2 (strings \"aba\" and \"ece\").\n",
    "to query [1,4] is 3 (strings \"ece\", \"aa\", \"e\").\n",
    "to query [1,1] is 0.\n",
    "We return [2,3,0].\n",
    "Example 2:\n",
    "\n",
    "Input: words = [\"a\",\"e\",\"i\"], queries = [[0,2],[0,1],[2,2]]\n",
    "Output: [3,2,1]\n",
    "Explanation: Every string satisfies the conditions, so we return [3,2,1]."
   ]
  },
  {
   "cell_type": "markdown",
   "id": "99cff890-0238-4886-ac2d-d23e95e9546e",
   "metadata": {},
   "source": [
    "Code:"
   ]
  },
  {
   "cell_type": "code",
   "execution_count": null,
   "id": "db0fdd92-a568-4553-ad2b-ffdf890ec490",
   "metadata": {},
   "outputs": [],
   "source": [
    "class Solution:\n",
    "    def vowelStrings(self, words: List[str], q: List[List[int]]) -> List[int]:\n",
    "        a=[]\n",
    "        for i in words:\n",
    "            if len(i)==1:\n",
    "                if i in 'aeiou':\n",
    "                    a.append(1)\n",
    "                else:\n",
    "                    a.append(0)\n",
    "            elif len(i)==2:\n",
    "                if i[0] in 'aeiou' and i[1] in 'aeoiu':\n",
    "                    a.append(1)\n",
    "                else:\n",
    "                    a.append(0)\n",
    "            else:\n",
    "                if i[0] in 'aeiou' and i[-1] in 'aeiou':\n",
    "                    a.append(1)\n",
    "                else:\n",
    "                    a.append(0)\n",
    "        ans=[]\n",
    "        for i in range(len(q)):\n",
    "            s=0\n",
    "            for j in range(q[i][0],q[i][1]+1):\n",
    "                s+=a[j]\n",
    "            ans.append(s)\n",
    "        return ans"
   ]
  },
  {
   "cell_type": "code",
   "execution_count": null,
   "id": "4fb70db0-56bf-409c-ae1d-a42d163d45c5",
   "metadata": {},
   "outputs": [],
   "source": []
  }
 ],
 "metadata": {
  "kernelspec": {
   "display_name": "Python 3 (ipykernel)",
   "language": "python",
   "name": "python3"
  },
  "language_info": {
   "codemirror_mode": {
    "name": "ipython",
    "version": 3
   },
   "file_extension": ".py",
   "mimetype": "text/x-python",
   "name": "python",
   "nbconvert_exporter": "python",
   "pygments_lexer": "ipython3",
   "version": "3.13.1"
  }
 },
 "nbformat": 4,
 "nbformat_minor": 5
}
