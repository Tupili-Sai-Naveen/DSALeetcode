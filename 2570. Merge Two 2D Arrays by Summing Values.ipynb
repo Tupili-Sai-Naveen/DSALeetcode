{
 "cells": [
  {
   "cell_type": "markdown",
   "id": "521b9287-5210-42b6-adf7-c02ec786f754",
   "metadata": {},
   "source": [
    "2570. Merge Two 2D Arrays by Summing Values"
   ]
  },
  {
   "cell_type": "markdown",
   "id": "8b7f6b92-e236-46c5-8323-0691b74cac98",
   "metadata": {},
   "source": [
    "You are given two 2D integer arrays nums1 and nums2.\n",
    "\n",
    "nums1[i] = [idi, vali] indicate that the number with the id idi has a value equal to vali.\n",
    "nums2[i] = [idi, vali] indicate that the number with the id idi has a value equal to vali.\n",
    "Each array contains unique ids and is sorted in ascending order by id.\n",
    "\n",
    "Merge the two arrays into one array that is sorted in ascending order by id, respecting the following conditions:\n",
    "\n",
    "Only ids that appear in at least one of the two arrays should be included in the resulting array.\n",
    "Each id should be included only once and its value should be the sum of the values of this id in the two arrays. If the id does not exist in one of the two arrays, then assume its value in that array to be 0.\n",
    "Return the resulting array. The returned array must be sorted in ascending order by id.\n",
    "\n",
    " "
   ]
  },
  {
   "cell_type": "markdown",
   "id": "103ff16b-b577-41d3-8abd-42c7eb25a2e1",
   "metadata": {},
   "source": [
    "class Solution:\n",
    "    def mergeArrays(self, nums1: List[List[int]], nums2: List[List[int]]) -> List[List[int]]:\n",
    "        h={}\n",
    "        mi=nums1[0][0]\n",
    "        ma=nums1[0][0]\n",
    "        for i in nums1:\n",
    "            h[i[0]]=i[1]\n",
    "            mi=min(i[0],mi)\n",
    "            ma=max(i[0],ma)\n",
    "        ans=[]\n",
    "        for i in nums2:\n",
    "            mi=min(i[0],mi)\n",
    "            ma=max(i[0],ma)\n",
    "            if i[0] not in h:\n",
    "                h[i[0]]=i[1]\n",
    "            else:\n",
    "                h[i[0]]+=i[1]\n",
    "        for i in range(mi,ma+1):\n",
    "            p=[]\n",
    "            if i in h:\n",
    "                p.append(i)\n",
    "                p.append(h[i])\n",
    "                ans.append(p)\n",
    "        return ans"
   ]
  }
 ],
 "metadata": {
  "kernelspec": {
   "display_name": "Python 3 (ipykernel)",
   "language": "python",
   "name": "python3"
  },
  "language_info": {
   "codemirror_mode": {
    "name": "ipython",
    "version": 3
   },
   "file_extension": ".py",
   "mimetype": "text/x-python",
   "name": "python",
   "nbconvert_exporter": "python",
   "pygments_lexer": "ipython3",
   "version": "3.13.1"
  }
 },
 "nbformat": 4,
 "nbformat_minor": 5
}
