{
 "cells": [
  {
   "cell_type": "markdown",
   "id": "d30862b1-7f08-4f27-8264-b2d138ab4e12",
   "metadata": {},
   "source": [
    "You are given a 0-indexed integer array arr, and an m x n integer matrix mat. arr and mat both contain all the integers in the range [1, m * n].\n",
    "\n",
    "Go through each index i in arr starting from index 0 and paint the cell in mat containing the integer arr[i].\n",
    "\n",
    "Return the smallest index i at which either a row or a column will be completely painted in mat."
   ]
  },
  {
   "cell_type": "markdown",
   "id": "743bf33a-432e-430d-904c-65d5bf0b0dda",
   "metadata": {},
   "source": [
    "Input: arr = [2,8,7,4,1,3,5,6,9], mat = [[3,2,5],[1,4,6],[8,7,9]]\n",
    "Output: 3\n",
    "Explanation: The second column becomes fully painted at arr[3].\n",
    " "
   ]
  },
  {
   "cell_type": "markdown",
   "id": "e26cf29b-4cfa-493c-a374-5379d0d65e21",
   "metadata": {},
   "source": [
    "Intuition\n",
    "The problem involves determining when either a row or column in a matrix becomes fully \"painted\" as we process elements of an array. Each element in the array corresponds to a unique cell in the matrix. By keeping track of how many cells in each row and column have been painted, we can find the earliest moment (smallest index in the array) where a row or column is fully painted.\n",
    "\n",
    "The key insight is that we can preprocess the matrix to map each value to its corresponding row and column, allowing us to efficiently update row and column counters as we iterate through the array.\n",
    "\n",
    "Approach\n",
    "Preprocessing the Matrix:\n",
    "\n",
    "Use two dictionaries (row_map and col_map) to map each value in the matrix to its corresponding row and column indices.\n",
    "This allows constant-time lookup for any value in the matrix.\n",
    "Initialize Counters:\n",
    "\n",
    "Use an array row_count to track how many cells in each row have been painted.\n",
    "Use an array col_count to track how many cells in each column have been painted.\n",
    "Iterate Through the Array:\n",
    "\n",
    "For each value in the array:\n",
    "Find its row and column using the preprocessed maps.\n",
    "Increment the corresponding row and column counters.\n",
    "Check if the row or column has been fully painted:\n",
    "A row is fully painted when row_count[row] == number_of_columns.\n",
    "A column is fully painted when col_count[col] == number_of_rows.\n",
    "If either condition is met, return the current index.\n",
    "Return the Result:\n",
    "\n",
    "The earliest index where a row or column is fully painted is the answer.\n",
    "\n",
    "Complexity\n",
    "Time complexity:\n",
    "O(m×n).\n",
    "Space complexity:\n",
    "O(m×n).\n",
    "Code\n",
    "class Solution:\n",
    "    def firstCompleteIndex(self, arr: List[int], mat: List[List[int]]) -> int:\n",
    "        a={}\n",
    "        b={}\n",
    "        n=len(mat)\n",
    "        m=len(mat[0])\n",
    "        for i in range(n):\n",
    "            for j in range(m):\n",
    "                a[mat[i][j]]=i\n",
    "                b[mat[i][j]]=j\n",
    "        c=[0]*n\n",
    "        d=[0]*m\n",
    "        for index,valve in enumerate(arr):\n",
    "            t=a[valve]\n",
    "            y=b[valve]\n",
    "            c[t]+=1\n",
    "            d[y]+=1\n",
    "            if c[t]==m or d[y]==n:\n",
    "                return index"
   ]
  },
  {
   "cell_type": "code",
   "execution_count": null,
   "id": "7c84571c-6c9f-4bf0-bfe5-bd43c6dd9c6e",
   "metadata": {},
   "outputs": [],
   "source": []
  },
  {
   "cell_type": "code",
   "execution_count": null,
   "id": "8e340b7b-17af-4adc-a792-6cfabc417cec",
   "metadata": {},
   "outputs": [],
   "source": []
  }
 ],
 "metadata": {
  "kernelspec": {
   "display_name": "Python 3 (ipykernel)",
   "language": "python",
   "name": "python3"
  },
  "language_info": {
   "codemirror_mode": {
    "name": "ipython",
    "version": 3
   },
   "file_extension": ".py",
   "mimetype": "text/x-python",
   "name": "python",
   "nbconvert_exporter": "python",
   "pygments_lexer": "ipython3",
   "version": "3.13.1"
  }
 },
 "nbformat": 4,
 "nbformat_minor": 5
}
