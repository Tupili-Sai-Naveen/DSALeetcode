{
 "cells": [
  {
   "cell_type": "markdown",
   "id": "ebd07135-6057-4b82-825c-3301c5a95d02",
   "metadata": {},
   "source": [
    "A 0-indexed array derived with length n is derived by computing the bitwise XOR (⊕) of adjacent values in a binary array original of length n.\n",
    "\n",
    "Specifically, for each index i in the range [0, n - 1]:\n",
    "\n",
    "If i = n - 1, then derived[i] = original[i] ⊕ original[0].\n",
    "Otherwise, derived[i] = original[i] ⊕ original[i + 1].\n",
    "Given an array derived, your task is to determine whether there exists a valid binary array original that could have formed derived.\n",
    "\n",
    "Return true if such an array exists or false otherwise.\n",
    "\n",
    "A binary array is an array containing only 0's and 1's"
   ]
  },
  {
   "cell_type": "markdown",
   "id": "b92ffac3-d984-4971-96f0-c852f5d678aa",
   "metadata": {},
   "source": [
    "Example 1:\n",
    "\n",
    "Input: derived = [1,1,0]\n",
    "Output: true\n",
    "Explanation: A valid original array that gives derived is [0,1,0].\n",
    "derived[0] = original[0] ⊕ original[1] = 0 ⊕ 1 = 1 \n",
    "derived[1] = original[1] ⊕ original[2] = 1 ⊕ 0 = 1\n",
    "derived[2] = original[2] ⊕ original[0] = 0 ⊕ 0 = 0"
   ]
  },
  {
   "cell_type": "markdown",
   "id": "773e6b11-140f-4e35-a05b-951719a941b1",
   "metadata": {},
   "source": [
    "Example 2:\n",
    "\n",
    "Input: derived = [1,1]\n",
    "Output: true\n",
    "Explanation: A valid original array that gives derived is [0,1].\n",
    "derived[0] = original[0] ⊕ original[1] = 1\n",
    "derived[1] = original[1] ⊕ original[0] = 1"
   ]
  },
  {
   "cell_type": "markdown",
   "id": "544951ef-243a-4df6-ade2-b667c6bee376",
   "metadata": {},
   "source": [
    "Example 3:\n",
    "\n",
    "Input: derived = [1,0]\n",
    "Output: false\n",
    "Explanation: There is no valid original array that gives derived."
   ]
  },
  {
   "cell_type": "code",
   "execution_count": null,
   "id": "72fd6f87-879e-4576-9dca-9d39df639ba3",
   "metadata": {},
   "outputs": [],
   "source": [
    "class Solution:\n",
    "    def doesValidArrayExist(self, d: List[int]) -> bool:\n",
    "        x=0\n",
    "        for i in d:\n",
    "            x=x^i\n",
    "        return x==0"
   ]
  }
 ],
 "metadata": {
  "kernelspec": {
   "display_name": "Python 3 (ipykernel)",
   "language": "python",
   "name": "python3"
  },
  "language_info": {
   "codemirror_mode": {
    "name": "ipython",
    "version": 3
   },
   "file_extension": ".py",
   "mimetype": "text/x-python",
   "name": "python",
   "nbconvert_exporter": "python",
   "pygments_lexer": "ipython3",
   "version": "3.13.1"
  }
 },
 "nbformat": 4,
 "nbformat_minor": 5
}
