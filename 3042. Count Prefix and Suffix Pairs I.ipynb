{
 "cells": [
  {
   "cell_type": "markdown",
   "id": "fa57ceee-65e9-4639-b8f0-e52fe19145f9",
   "metadata": {},
   "source": [
    "3042. Count Prefix and Suffix Pairs I"
   ]
  },
  {
   "cell_type": "markdown",
   "id": "f926dd68-f502-479b-a543-49792c7a5942",
   "metadata": {},
   "source": [
    "You are given a 0-indexed string array words.\n",
    "\n",
    "Let's define a boolean function isPrefixAndSuffix that takes two strings, str1 and str2:\n",
    "\n",
    "isPrefixAndSuffix(str1, str2) returns true if str1 is both a \n",
    "prefix\n",
    " and a \n",
    "suffix\n",
    " of str2, and false otherwise.\n",
    "For example, isPrefixAndSuffix(\"aba\", \"ababa\") is true because \"aba\" is a prefix of \"ababa\" and also a suffix, but isPrefixAndSuffix(\"abc\", \"abcd\") is false.\n",
    "\n",
    "Return an integer denoting the number of index pairs (i, j) such that i < j, and isPrefixAndSuffix(words[i], words[j]) is true"
   ]
  },
  {
   "cell_type": "markdown",
   "id": "ab7edbb1-2a8a-48b3-9355-be8dd067bf2b",
   "metadata": {},
   "source": [
    "Example 1:\n",
    "\n",
    "Input: words = [\"a\",\"aba\",\"ababa\",\"aa\"]\n",
    "Output: 4\n",
    "Explanation: In this example, the counted index pairs are:\n",
    "i = 0 and j = 1 because isPrefixAndSuffix(\"a\", \"aba\") is true.\n",
    "i = 0 and j = 2 because isPrefixAndSuffix(\"a\", \"ababa\") is true.\n",
    "i = 0 and j = 3 because isPrefixAndSuffix(\"a\", \"aa\") is true.\n",
    "i = 1 and j = 2 because isPrefixAndSuffix(\"aba\", \"ababa\") is true.\n",
    "Therefore, the answer is 4."
   ]
  },
  {
   "cell_type": "markdown",
   "id": "1ffa436e-ec58-4c77-8d8c-32c08e0e9a93",
   "metadata": {},
   "source": [
    "Example 2:\n",
    "\n",
    "Input: words = [\"pa\",\"papa\",\"ma\",\"mama\"]\n",
    "Output: 2\n",
    "Explanation: In this example, the counted index pairs are:\n",
    "i = 0 and j = 1 because isPrefixAndSuffix(\"pa\", \"papa\") is true.\n",
    "i = 2 and j = 3 because isPrefixAndSuffix(\"ma\", \"mama\") is true.\n",
    "Therefore, the answer is 2."
   ]
  },
  {
   "cell_type": "markdown",
   "id": "11fd33f0-f7ca-44f7-b674-0c2fc62c247f",
   "metadata": {},
   "source": [
    "Example 3:\n",
    "\n",
    "Input: words = [\"abab\",\"ab\"]\n",
    "Output: 0\n",
    "Explanation: In this example, the only valid index pair is i = 0 and j = 1, and isPrefixAndSuffix(\"abab\", \"ab\") is false.\n",
    "Therefore, the answer is 0."
   ]
  },
  {
   "cell_type": "markdown",
   "id": "32509c3f-e6ac-456e-9930-4df37c4e852a",
   "metadata": {},
   "source": [
    "Code:"
   ]
  },
  {
   "cell_type": "code",
   "execution_count": null,
   "id": "44810ec4-9040-4959-841f-85942b20bdf2",
   "metadata": {},
   "outputs": [],
   "source": [
    "class Solution:\n",
    "    def countPrefixSuffixPairs(self, words: List[str]) -> int:\n",
    "        c=0\n",
    "        l=len(words)\n",
    "        for i in range(l):\n",
    "            for j in range(i+1,l):\n",
    "                a=len(words[i])\n",
    "                if(words[i][:a]==words[j][:a] and words[i][::-1][:a]==words[j][::-1][:a]):\n",
    "                    c+=1\n",
    "        return c"
   ]
  }
 ],
 "metadata": {
  "kernelspec": {
   "display_name": "Python 3 (ipykernel)",
   "language": "python",
   "name": "python3"
  },
  "language_info": {
   "codemirror_mode": {
    "name": "ipython",
    "version": 3
   },
   "file_extension": ".py",
   "mimetype": "text/x-python",
   "name": "python",
   "nbconvert_exporter": "python",
   "pygments_lexer": "ipython3",
   "version": "3.13.1"
  }
 },
 "nbformat": 4,
 "nbformat_minor": 5
}
