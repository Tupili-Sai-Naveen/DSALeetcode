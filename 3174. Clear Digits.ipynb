{
 "cells": [
  {
   "cell_type": "raw",
   "id": "1b895216-c332-42d3-a6f7-4ad37066c3a0",
   "metadata": {},
   "source": [
    "3174. Clear Digits\n"
   ]
  },
  {
   "cell_type": "raw",
   "id": "4660b594-7ef1-4195-bc2c-2cb28fb2e512",
   "metadata": {},
   "source": [
    "You are given a string s.\n",
    "\n",
    "Your task is to remove all digits by doing this operation repeatedly:\n",
    "\n",
    "Delete the first digit and the closest non-digit character to its left.\n",
    "Return the resulting string after removing all digits."
   ]
  },
  {
   "cell_type": "raw",
   "id": "743a8ef3-780e-4a36-89f2-0862835fce35",
   "metadata": {},
   "source": [
    "class Solution:\n",
    "    def clearDigits(self, s: str) -> str:\n",
    "        l=len(s)\n",
    "        ans=[0]*l\n",
    "        for i in range(l):\n",
    "            if s[i] in '1023456789':\n",
    "                j=i-1\n",
    "                ans[j+1]=1\n",
    "                while(j>=0):\n",
    "                    if ans[j]==0 and s[j] not in '0123456789':\n",
    "                        ans[j]=1\n",
    "                        break\n",
    "                    j-=1\n",
    "        w=''\n",
    "        for i in range(l):\n",
    "            if ans[i]==0:\n",
    "                w+=s[i]\n",
    "        return w"
   ]
  },
  {
   "cell_type": "code",
   "execution_count": null,
   "id": "84f166c5-e55d-4091-8eee-19ae4531c440",
   "metadata": {},
   "outputs": [],
   "source": []
  }
 ],
 "metadata": {
  "kernelspec": {
   "display_name": "Python 3 (ipykernel)",
   "language": "python",
   "name": "python3"
  },
  "language_info": {
   "codemirror_mode": {
    "name": "ipython",
    "version": 3
   },
   "file_extension": ".py",
   "mimetype": "text/x-python",
   "name": "python",
   "nbconvert_exporter": "python",
   "pygments_lexer": "ipython3",
   "version": "3.13.1"
  }
 },
 "nbformat": 4,
 "nbformat_minor": 5
}
