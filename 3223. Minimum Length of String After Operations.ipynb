{
 "cells": [
  {
   "cell_type": "markdown",
   "id": "e2f9c944-7a4e-4595-a55c-bc9f6f2889f1",
   "metadata": {},
   "source": [
    "3223. Minimum Length of String After Operations"
   ]
  },
  {
   "cell_type": "raw",
   "id": "f41198de-f747-4ecd-ae52-3c3f642dd366",
   "metadata": {},
   "source": [
    "You are given a string s.\n",
    "\n",
    "You can perform the following process on s any number of times:\n",
    "\n",
    "Choose an index i in the string such that there is at least one character to the left of index i that is equal to s[i], and at least one character to the right that is also equal to s[i].\n",
    "Delete the closest character to the left of index i that is equal to s[i].\n",
    "Delete the closest character to the right of index i that is equal to s[i].\n",
    "Return the minimum length of the final string s that you can achieve."
   ]
  },
  {
   "cell_type": "markdown",
   "id": "257fad20-3904-4440-a3ad-f8346e0e17f8",
   "metadata": {},
   "source": [
    "Example 1:\n",
    "\n",
    "Input: s = \"abaacbcbb\"\n",
    "\n",
    "Output: 5\n",
    "\n",
    "Explanation:\n",
    "We do the following operations:\n",
    "\n",
    "Choose index 2, then remove the characters at indices 0 and 3. The resulting string is s = \"bacbcbb\".\n",
    "Choose index 3, then remove the characters at indices 0 and 5. The resulting string is s = \"acbcb\"."
   ]
  },
  {
   "cell_type": "markdown",
   "id": "636877fc-e090-415f-b902-84230333abe2",
   "metadata": {},
   "source": [
    "Example 2:\n",
    "\n",
    "Input: s = \"aa\"\n",
    "\n",
    "Output: 2\n",
    "\n",
    "Explanation:\n",
    "We cannot perform any operations, so we return the length of the original string."
   ]
  },
  {
   "cell_type": "code",
   "execution_count": null,
   "id": "6fd849e4-156d-4c88-9955-baba9f164dc3",
   "metadata": {},
   "outputs": [],
   "source": [
    "class Solution:\n",
    "    def minimumLength(self, s: str) -> int:\n",
    "        q=[0]*26\n",
    "        ans=0\n",
    "        for i in s:\n",
    "            q[ord(i)-ord('a')]+=1\n",
    "        for i in q:\n",
    "            if i==0:\n",
    "                continue\n",
    "            if i%2==0:\n",
    "                ans+=2\n",
    "            else:\n",
    "                ans+=1\n",
    "        return ans"
   ]
  }
 ],
 "metadata": {
  "kernelspec": {
   "display_name": "Python 3 (ipykernel)",
   "language": "python",
   "name": "python3"
  },
  "language_info": {
   "codemirror_mode": {
    "name": "ipython",
    "version": 3
   },
   "file_extension": ".py",
   "mimetype": "text/x-python",
   "name": "python",
   "nbconvert_exporter": "python",
   "pygments_lexer": "ipython3",
   "version": "3.13.1"
  }
 },
 "nbformat": 4,
 "nbformat_minor": 5
}
