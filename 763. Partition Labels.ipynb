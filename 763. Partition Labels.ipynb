{
 "cells": [
  {
   "cell_type": "markdown",
   "id": "ddc06ae7-552c-4b43-9beb-355caaa13313",
   "metadata": {},
   "source": [
    "You are given a string s. We want to partition the string into as many parts as possible so that each letter appears in at most one part. For example, the string \"ababcc\" can be partitioned into [\"abab\", \"cc\"], but partitions such as [\"aba\", \"bcc\"] or [\"ab\", \"ab\", \"cc\"] are invalid.\n",
    "\n",
    "Note that the partition is done so that after concatenating all the parts in order, the resultant string should be s.\n",
    "\n",
    "Return a list of integers representing the size of these parts."
   ]
  },
  {
   "cell_type": "code",
   "execution_count": null,
   "id": "f7f5fab9-a8d3-42a5-ba12-bda6aabbfe75",
   "metadata": {},
   "outputs": [],
   "source": [
    "class Solution:\n",
    "    def partitionLabels(self, s: str) -> List[int]:\n",
    "        a={}\n",
    "        for i in range(len(s)):\n",
    "            a[s[i]]=i\n",
    "        ans=[]\n",
    "        m=a[s[0]]\n",
    "        t=0\n",
    "        for i in range(len(s)):\n",
    "            if i==m:\n",
    "                ans.append((i-t))\n",
    "                t=i\n",
    "                if i+1!=len(s):\n",
    "                    m=a[s[i+1]]\n",
    "            else:\n",
    "                if a[s[i]]>m:\n",
    "                    m=a[s[i]]\n",
    "        ans[0]=ans[0]+1\n",
    "        return ans\n",
    "        \n"
   ]
  }
 ],
 "metadata": {
  "kernelspec": {
   "display_name": "Python 3 (ipykernel)",
   "language": "python",
   "name": "python3"
  },
  "language_info": {
   "codemirror_mode": {
    "name": "ipython",
    "version": 3
   },
   "file_extension": ".py",
   "mimetype": "text/x-python",
   "name": "python",
   "nbconvert_exporter": "python",
   "pygments_lexer": "ipython3",
   "version": "3.13.1"
  }
 },
 "nbformat": 4,
 "nbformat_minor": 5
}
